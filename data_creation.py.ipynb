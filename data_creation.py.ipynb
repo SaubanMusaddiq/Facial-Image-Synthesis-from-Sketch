{
 "cells": [
  {
   "cell_type": "code",
   "execution_count": 20,
   "metadata": {},
   "outputs": [],
   "source": [
    "import os\n",
    "import cv2\n",
    "import numpy as np\n",
    "import glob\n",
    "import imageio\n",
    "import scipy.ndimage\n"
   ]
  },
  {
   "cell_type": "markdown",
   "metadata": {},
   "source": [
    "OpenCV Pencil Sketch Function"
   ]
  },
  {
   "cell_type": "code",
   "execution_count": 28,
   "metadata": {},
   "outputs": [],
   "source": [
    "if not os.path.isdir('data/cv2_pencil_sketch'):\n",
    "    os.mkdir('data/cv2_pencil_sketch')"
   ]
  },
  {
   "cell_type": "code",
   "execution_count": 12,
   "metadata": {},
   "outputs": [],
   "source": [
    "cv_img = []\n",
    "for i,fn in enumerate(glob.glob(\"data/gen_cyclegan/*\")):\n",
    "    img= cv2.imread(fn)\n",
    "    gray, _ = cv2.pencilSketch(img, sigma_s=60, sigma_r=0.07, shade_factor=0.05)\n",
    "    cv2.imwrite('data/cv2_pencil_sketch/'+os.path.basename(fn), gray)"
   ]
  },
  {
   "cell_type": "markdown",
   "metadata": {},
   "source": [
    "Custom Pencil Sketch\n",
    "https://github.com/rra94/sketchify"
   ]
  },
  {
   "cell_type": "code",
   "execution_count": null,
   "metadata": {},
   "outputs": [],
   "source": [
    "if not os.path.isdir('data/pencil_sketch'):\n",
    "    os.mkdir('data/pencil_sketch')"
   ]
  },
  {
   "cell_type": "code",
   "execution_count": 14,
   "metadata": {},
   "outputs": [],
   "source": [
    "def dodge(front,back):\n",
    "    result=front*255/(255-back) \n",
    "    result[result>255]=255\n",
    "    result[back==255]=255\n",
    "    return result.astype('uint8')\n",
    "\n",
    "def grayscale(rgb):\n",
    "    return np.dot(rgb[...,:3], [0.299, 0.587, 0.114])"
   ]
  },
  {
   "cell_type": "code",
   "execution_count": 29,
   "metadata": {},
   "outputs": [
    {
     "name": "stdout",
     "output_type": "stream",
     "text": [
      "0\n"
     ]
    },
    {
     "name": "stderr",
     "output_type": "stream",
     "text": [
      "/home/sauban/.local/lib/python3.6/site-packages/ipykernel_launcher.py:2: RuntimeWarning: divide by zero encountered in true_divide\n",
      "  \n"
     ]
    }
   ],
   "source": [
    "for e,fn in enumerate(glob.glob(\"data/orig/*\")):\n",
    "    s= cv2.imread(fn)\n",
    "    g=grayscale(s)\n",
    "    i = 255-g\n",
    "    b = scipy.ndimage.filters.gaussian_filter(i,sigma=10)\n",
    "    r= dodge(b,g)\n",
    "    cv2.imwrite('data/pencil_sketch/'+os.path.basename(fn), r)\n",
    "    if(e %1000 ==0):\n",
    "        print(e)"
   ]
  },
  {
   "cell_type": "code",
   "execution_count": null,
   "metadata": {},
   "outputs": [],
   "source": []
  }
 ],
 "metadata": {
  "kernelspec": {
   "display_name": "Python 3",
   "language": "python",
   "name": "python3"
  },
  "language_info": {
   "codemirror_mode": {
    "name": "ipython",
    "version": 3
   },
   "file_extension": ".py",
   "mimetype": "text/x-python",
   "name": "python",
   "nbconvert_exporter": "python",
   "pygments_lexer": "ipython3",
   "version": "3.6.9"
  }
 },
 "nbformat": 4,
 "nbformat_minor": 2
}
